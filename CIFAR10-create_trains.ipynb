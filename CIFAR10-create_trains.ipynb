{
 "cells": [
  {
   "cell_type": "markdown",
   "metadata": {
    "colab_type": "text",
    "id": "view-in-github"
   },
   "source": [
    "<a href=\"https://colab.research.google.com/github/as791/Adversarial-Example-Attack-and-Defense/blob/master/Adversarial_Example_(Attack_and_defense).ipynb\" target=\"_parent\"><img src=\"https://colab.research.google.com/assets/colab-badge.svg\" alt=\"Open In Colab\"/></a>"
   ]
  },
  {
   "cell_type": "code",
   "execution_count": 1,
   "metadata": {
    "colab": {},
    "colab_type": "code",
    "id": "aGrkQarm97Ye",
    "tags": []
   },
   "outputs": [],
   "source": [
    "import numpy as np\n",
    "import matplotlib.pyplot as plt\n",
    "import torch\n",
    "import torch.nn as nn\n",
    "import torch.nn.functional as F\n",
    "import torch.optim as optim\n",
    "import os\n",
    "from torchvision import transforms,datasets\n",
    "from torch.autograd import Variable\n",
    "import copy\n",
    "from torch.autograd.gradcheck import zero_gradients\n",
    "from scipy import optimize \n",
    "from torch.utils.data import Dataset, Subset, DataLoader"
   ]
  },
  {
   "cell_type": "code",
   "execution_count": 2,
   "metadata": {
    "colab": {
     "base_uri": "https://localhost:8080/",
     "height": 34
    },
    "colab_type": "code",
    "id": "0Rt-4inOweid",
    "outputId": "8b301031-02dd-4473-b45a-71b2564b9915",
    "tags": []
   },
   "outputs": [
    {
     "data": {
      "text/plain": [
       "<torch._C.Generator at 0x11be816f250>"
      ]
     },
     "execution_count": 2,
     "metadata": {},
     "output_type": "execute_result"
    }
   ],
   "source": [
    "np.random.seed(42)\n",
    "torch.manual_seed(42)"
   ]
  },
  {
   "cell_type": "code",
   "execution_count": 3,
   "metadata": {
    "colab": {},
    "colab_type": "code",
    "id": "GkxWvr7aviFj",
    "tags": []
   },
   "outputs": [
    {
     "name": "stdout",
     "output_type": "stream",
     "text": [
      "Files already downloaded and verified\n",
      "Files already downloaded and verified\n"
     ]
    }
   ],
   "source": [
    "transform = transforms.Compose([transforms.ToTensor(), transforms.Normalize((0.0,), (1.0,))])\n",
    "dataset = datasets.CIFAR10(root = './data', train=True, transform = transform, download=True)\n",
    "train_set, val_set = torch.utils.data.random_split(dataset, [40000, 10000])\n",
    "test_set = datasets.CIFAR10(root = './data', train=False, transform = transform, download=True)\n",
    "train_loader = torch.utils.data.DataLoader(train_set,batch_size=128,shuffle=True)\n",
    "val_loader = torch.utils.data.DataLoader(val_set,batch_size=128,shuffle=True)\n",
    "test_loader = torch.utils.data.DataLoader(test_set,batch_size=1,shuffle=True)"
   ]
  },
  {
   "cell_type": "code",
   "execution_count": 4,
   "metadata": {
    "colab": {
     "base_uri": "https://localhost:8080/",
     "height": 34
    },
    "colab_type": "code",
    "id": "XVMI7iDTmarW",
    "outputId": "6b3ed0fd-2eda-4615-a6a0-1f8ebf031496",
    "tags": []
   },
   "outputs": [
    {
     "name": "stdout",
     "output_type": "stream",
     "text": [
      "Training data: 313 Validation data: 79 Test data:  10000\n"
     ]
    }
   ],
   "source": [
    "print(\"Training data:\",len(train_loader),\"Validation data:\",len(val_loader),\"Test data: \",len(test_loader))"
   ]
  },
  {
   "cell_type": "code",
   "execution_count": 5,
   "metadata": {
    "colab": {},
    "colab_type": "code",
    "id": "pknHQZaMYpwC",
    "tags": []
   },
   "outputs": [],
   "source": [
    "use_cuda=True\n",
    "device = torch.device(\"cuda\" if (use_cuda and torch.cuda.is_available()) else \"cpu\")"
   ]
  },
  {
   "cell_type": "code",
   "execution_count": 6,
   "metadata": {
    "tags": []
   },
   "outputs": [
    {
     "name": "stdout",
     "output_type": "stream",
     "text": [
      "cuda\n"
     ]
    }
   ],
   "source": [
    "device = torch.device(\"cuda\" if torch.cuda.is_available() else \"cpu\")\n",
    "\n",
    "print(device)"
   ]
  },
  {
   "cell_type": "markdown",
   "metadata": {
    "colab_type": "text",
    "id": "ojfonaxgSvQE"
   },
   "source": [
    "##Attack"
   ]
  },
  {
   "cell_type": "code",
   "execution_count": 7,
   "metadata": {},
   "outputs": [],
   "source": [
    "# NN Class model\n",
    "class Net(nn.Module):\n",
    "    def __init__(self):\n",
    "      super().__init__() # To inherit all methods from parent class\n",
    "\n",
    "      self.conv1 = nn.Conv2d(3, 64, 3, 1, padding=1) # args = (input_channels, output_channels, kernel_size, stride_length)\n",
    "      self.conv2 = nn.Conv2d(64, 64, 3, 1, padding=1)\n",
    "      self.conv3 = nn.Conv2d(64, 128, 3, 1, padding=1)\n",
    "      self.conv4 = nn.Conv2d(128, 128, 3, 1, padding=1)\n",
    "\n",
    "      # Calculations: \n",
    "      # No. of neurons in FC1 is (Number of channels)*(size of each channel after max pooling in conv3)\n",
    "      # 32x32 -> conv1 -> 32x32 (after padding) -> conv2 -> 32x32 (after padding) -> max_pool1 -> 16x16 -> conv3 -> 16x16 (after padding) -> conv4 -> 16x16 (after padding) -> max_pool2 -> 8x8\n",
    "      # size of each channel after max pooling in conv3 = 8*8\n",
    "      # Number of channels = 128\n",
    "      # No. of neurons in FC1 = 128*(8*8)\n",
    "\n",
    "      self.fc1 = nn.Linear(8*8*128, 256)\n",
    "      self.dropout1 = nn.Dropout(0.5)\n",
    "      self.fc2 = nn.Linear(256, 256)\n",
    "      self.dropout2 = nn.Dropout(0.5)\n",
    "      self.fc3 = nn.Linear(256, 10)\n",
    "    \n",
    "    def forward(self, x):\n",
    "      # Defining architecture of NN\n",
    "      x = F.relu(self.conv1(x))\n",
    "      x = F.relu(self.conv2(x))\n",
    "      x = F.max_pool2d(x, 2, 2)\n",
    "      x = F.relu(self.conv3(x))\n",
    "      x = F.relu(self.conv4(x))\n",
    "      x = F.max_pool2d(x, 2, 2)\n",
    "      x = x.view(-1, 8*8*128) # Flattens to 1x8*8*128 row vector\n",
    "      x = F.relu(self.fc1(x))\n",
    "      x = self.dropout1(x)\n",
    "      x = F.relu(self.fc2(x))\n",
    "      x = self.dropout2(x)\n",
    "      x = self.fc3(x)\n",
    "      x = F.log_softmax(x, dim=1)\n",
    "\n",
    "      return x"
   ]
  },
  {
   "cell_type": "code",
   "execution_count": 8,
   "metadata": {
    "colab": {},
    "colab_type": "code",
    "id": "jUN6hEiBErhm",
    "tags": []
   },
   "outputs": [],
   "source": [
    "model = Net().to(device)"
   ]
  },
  {
   "cell_type": "code",
   "execution_count": 9,
   "metadata": {
    "colab": {},
    "colab_type": "code",
    "id": "AptkqWI9YljT",
    "tags": []
   },
   "outputs": [],
   "source": [
    "optimizer = optim.SGD(model.parameters(), lr=0.01, momentum=0.9, dampening =0.5,)\n",
    "scheduler = optim.lr_scheduler.StepLR(optimizer, step_size=10, gamma=0.5)\n",
    "\n",
    "criterion = nn.NLLLoss()"
   ]
  },
  {
   "cell_type": "code",
   "execution_count": 10,
   "metadata": {
    "colab": {},
    "colab_type": "code",
    "id": "yiX8fKnhYMu4",
    "tags": []
   },
   "outputs": [],
   "source": [
    "def fit(model,device,train_loader,val_loader,epochs):\n",
    "  data_loader = {'train':train_loader,'val':val_loader}\n",
    "  print(\"Fitting the model...\")\n",
    "  train_loss,val_loss=[],[]\n",
    "  for epoch in range(epochs):\n",
    "    loss_per_epoch,val_loss_per_epoch=0,0\n",
    "    for phase in ('train','val'):\n",
    "      for i,data in enumerate(data_loader[phase]):\n",
    "        input,label  = data[0].to(device),data[1].to(device)\n",
    "        output = model(input)\n",
    "        #calculating loss on the output\n",
    "        loss = criterion(output,label)\n",
    "        if phase == 'train':\n",
    "          optimizer.zero_grad()\n",
    "          #grad calc w.r.t Loss func\n",
    "          loss.backward()\n",
    "          #update weights\n",
    "          optimizer.step()\n",
    "          loss_per_epoch+=loss.item()\n",
    "        else:\n",
    "          val_loss_per_epoch+=loss.item()\n",
    "    #scheduler.step(val_loss_per_epoch/len(val_loader))\n",
    "    print(\"Epoch: {} Loss: {} Val_Loss: {}\".format(epoch+1,loss_per_epoch/len(train_loader),val_loss_per_epoch/len(val_loader)))\n",
    "    train_loss.append(loss_per_epoch/len(train_loader))\n",
    "    val_loss.append(val_loss_per_epoch/len(val_loader))\n",
    "  return train_loss,val_loss"
   ]
  },
  {
   "cell_type": "code",
   "execution_count": 11,
   "metadata": {
    "tags": []
   },
   "outputs": [],
   "source": [
    "def fit_and_save(model,devide,train_loader,val_loader,epochs,retrain):\n",
    "    file_path = \"./model/Exp1_CIFAR10.pth\"\n",
    "    if(retrain == True or not(os.path.exists(file_path))):\n",
    "        loss,val_loss=fit(model,device,train_loader,val_loader,epochs)\n",
    "        torch.save(model.state_dict(), file_path)\n",
    "        np.save('./model/Exp1_CIFAR10_loss_array.npy', loss)\n",
    "        np.save('./model/Exp1_CIFAR10_val_loss_array.npy', val_loss)\n",
    "    else:\n",
    "        model.load_state_dict(torch.load(file_path))\n",
    "        loss = np.load('./model/Exp1_CIFAR10_loss_array.npy')\n",
    "        val_loss = np.load('./model/Exp1_CIFAR10_val_loss_array.npy')\n",
    "    return loss,val_loss"
   ]
  },
  {
   "cell_type": "code",
   "execution_count": 12,
   "metadata": {
    "colab": {
     "base_uri": "https://localhost:8080/",
     "height": 204
    },
    "colab_type": "code",
    "id": "KZsY1KfZjELB",
    "outputId": "79bfe15d-c7d5-45ff-f2aa-129eed6535dc",
    "tags": []
   },
   "outputs": [],
   "source": [
    "loss,val_loss=fit_and_save(model,device,train_loader,val_loader,50, False)"
   ]
  },
  {
   "cell_type": "code",
   "execution_count": 13,
   "metadata": {
    "colab": {
     "base_uri": "https://localhost:8080/",
     "height": 334
    },
    "colab_type": "code",
    "id": "jIn4g_o7NnXH",
    "outputId": "ffe81618-de62-49ca-adab-d637e99a9693",
    "tags": []
   },
   "outputs": [
    {
     "data": {
      "image/png": "[encoded data removed]",
      "text/plain": [
       "<Figure size 500x500 with 1 Axes>"
      ]
     },
     "metadata": {},
     "output_type": "display_data"
    }
   ],
   "source": [
    "fig = plt.figure(figsize=(5,5))\n",
    "plt.plot(np.arange(1,51), loss, \"*-\",label=\"Loss\")\n",
    "plt.plot(np.arange(1,51), val_loss,\"o-\",label=\"Val Loss\")\n",
    "plt.xlabel(\"Num of epochs\")\n",
    "plt.legend()\n",
    "plt.show()"
   ]
  },
  {
   "cell_type": "code",
   "execution_count": 14,
   "metadata": {
    "colab": {},
    "colab_type": "code",
    "id": "HC02Gxez9-21",
    "tags": []
   },
   "outputs": [],
   "source": [
    "def fgsm_attack(input,epsilon,data_grad):\n",
    "  pert_out = input + epsilon*data_grad.sign()\n",
    "  pert_out = torch.clamp(pert_out, 0, 1)\n",
    "  return pert_out\n",
    "\n",
    "def mifgsm_attack(input,epsilon,data_grad):\n",
    "  iter=10\n",
    "  decay_factor=1.0\n",
    "  pert_out = input\n",
    "  alpha = epsilon/iter\n",
    "  g=0\n",
    "  for i in range(iter-1):\n",
    "    g = decay_factor*g + data_grad/torch.norm(data_grad,p=1)\n",
    "    pert_out = pert_out + alpha*torch.sign(g)\n",
    "    pert_out = torch.clamp(pert_out, 0, 1)\n",
    "    if torch.norm((pert_out-input),p=float('inf')) > epsilon:\n",
    "      break\n",
    "  return pert_out"
   ]
  },
  {
   "cell_type": "code",
   "execution_count": 15,
   "metadata": {},
   "outputs": [],
   "source": [
    "def deepfool_attack(image, net, num_classes=10, overshoot = 0.02, max_iter=10):\n",
    "\n",
    "    is_cuda = torch.cuda.is_available()\n",
    "\n",
    "    if is_cuda:\n",
    "        #print(\"Using GPU\")\n",
    "        image = image.cuda()\n",
    "        net = net.cuda()\n",
    "    else:\n",
    "        print(\"Using CPU\")\n",
    "\n",
    "\n",
    "    f_image = net.forward(Variable(image, requires_grad=True)).data.cpu().numpy().flatten()\n",
    "    I = (np.array(f_image)).flatten().argsort()[::-1]\n",
    "\n",
    "    I = I[0:num_classes]\n",
    "    label = I[0]\n",
    "\n",
    "    input_shape = image.cpu().detach().numpy().shape\n",
    "    pert_image = copy.deepcopy(image)\n",
    "    w = np.zeros(input_shape)\n",
    "    r_tot = np.zeros(input_shape)\n",
    "\n",
    "    loop_i = 0\n",
    "\n",
    "    x = Variable(pert_image, requires_grad=True)\n",
    "    fs = net.forward(x)\n",
    "    fs_list = [fs[0,I[k]] for k in range(num_classes)]\n",
    "    k_i = label\n",
    "\n",
    "    while k_i == label and loop_i < max_iter:\n",
    "\n",
    "        pert = np.inf\n",
    "        fs[0, I[0]].backward(retain_graph=True)\n",
    "        grad_orig = x.grad.data.cpu().numpy().copy()\n",
    "\n",
    "        for k in range(1, num_classes):\n",
    "            zero_gradients(x)\n",
    "\n",
    "            fs[0, I[k]].backward(retain_graph=True)\n",
    "            cur_grad = x.grad.data.cpu().numpy().copy()\n",
    "\n",
    "            # set new w_k and new f_k\n",
    "            w_k = cur_grad - grad_orig\n",
    "            f_k = (fs[0, I[k]] - fs[0, I[0]]).data.cpu().numpy()\n",
    "\n",
    "            pert_k = abs(f_k)/np.linalg.norm(w_k.flatten())\n",
    "\n",
    "            # determine which w_k to use\n",
    "            if pert_k < pert:\n",
    "                pert = pert_k\n",
    "                w = w_k\n",
    "\n",
    "        # compute r_i and r_tot\n",
    "        # Added 1e-4 for numerical stability\n",
    "        r_i =  (pert+1e-4) * w / np.linalg.norm(w)\n",
    "        r_tot = np.float32(r_tot + r_i)\n",
    "\n",
    "        if is_cuda:\n",
    "            pert_image = image + (1+overshoot)*torch.from_numpy(r_tot).cuda()\n",
    "        else:\n",
    "            pert_image = image + (1+overshoot)*torch.from_numpy(r_tot)\n",
    "\n",
    "        x = Variable(pert_image, requires_grad=True)\n",
    "        fs = net.forward(x)\n",
    "        k_i = np.argmax(fs.data.cpu().numpy().flatten())\n",
    "\n",
    "        loop_i += 1\n",
    "\n",
    "    r_tot = (1+overshoot)*r_tot\n",
    "\n",
    "    return pert_image"
   ]
  },
  {
   "cell_type": "code",
   "execution_count": 16,
   "metadata": {},
   "outputs": [],
   "source": [
    "def flow_st(images,flows):\n",
    "  images_shape = images.size()\n",
    "  flows_shape = flows.size()\n",
    "  batch_size = images_shape[0]\n",
    "  H = images_shape[2]\n",
    "  W = images_shape[3]\n",
    "  basegrid = torch.stack(torch.meshgrid(torch.arange(0,H), torch.arange(0,W))) #(2,H,W)\n",
    "  sampling_grid = basegrid.unsqueeze(0).type(torch.float32).cuda() + flows.cuda()\n",
    "  sampling_grid_x = torch.clamp(sampling_grid[:,1],0.0,W-1.0).type(torch.float32)\n",
    "  sampling_grid_y = torch.clamp(sampling_grid[:,0],0.0,H-1.0).type(torch.float32)\n",
    "\n",
    "  x0 = torch.floor(sampling_grid_x).type(torch.int64)\n",
    "  x1 = x0 + 1\n",
    "  y0 = torch.floor(sampling_grid_y).type(torch.int64)\n",
    "  y1 = y0 + 1\n",
    "\n",
    "  x0 = torch.clamp(x0, 0, W - 2)\n",
    "  x1 = torch.clamp(x1, 0, W - 1)\n",
    "  y0 = torch.clamp(y0, 0, H - 2)\n",
    "  y1 = torch.clamp(y1, 0, H - 1)\n",
    "  \n",
    "  Ia = images[:,:,y0[0,:,:], x0[0,:,:]]\n",
    "  Ib = images[:,:,y1[0,:,:], x0[0,:,:]]\n",
    "  Ic = images[:,:,y0[0,:,:], x1[0,:,:]]\n",
    "  Id = images[:,:,y1[0,:,:], x1[0,:,:]]\n",
    "\n",
    "  x0 = x0.type(torch.float32)\n",
    "  x1 = x1.type(torch.float32)\n",
    "  y0 = y0.type(torch.float32)\n",
    "  y1 = y1.type(torch.float32)\n",
    "  \n",
    "  wa = (x1 - sampling_grid_x) * (y1 - sampling_grid_y)\n",
    "  wb = (x1 - sampling_grid_x) * (sampling_grid_y - y0)\n",
    "  wc = (sampling_grid_x - x0) * (y1 - sampling_grid_y)\n",
    "  wd = (sampling_grid_x - x0) * (sampling_grid_y - y0)\n",
    "  \n",
    "  perturbed_image = wa.unsqueeze(0)*Ia+wb.unsqueeze(0)*Ib+wc.unsqueeze(0)*Ic+wd.unsqueeze(0)*Id\n",
    "\n",
    "  return perturbed_image.type(torch.float32).cuda()\n",
    "\n",
    "def flow_loss(flows,padding_mode='constant', epsilon=1e-8):\n",
    "  paddings = (1,1,1,1)\n",
    "  padded_flows = F.pad(flows,paddings,mode=padding_mode,value=0)\n",
    "  shifted_flows = [\n",
    "    padded_flows[:, :, 2:, 2:],  # bottom right (+1,+1)\n",
    "    padded_flows[:, :, 2:, :-2],  # bottom left (+1,-1)\n",
    "    padded_flows[:, :, :-2, 2:],  # top right (-1,+1)\n",
    "    padded_flows[:, :, :-2, :-2]  # top left (-1,-1)\n",
    "  ]\n",
    "  #||\\Delta u^{(p)} - \\Delta u^{(q)}||_2^2 + # ||\\Delta v^{(p)} - \\Delta v^{(q)}||_2^2 \n",
    "  loss=0\n",
    "  for shifted_flow in shifted_flows:\n",
    "    loss += torch.sum(torch.square(flows[:, 1] - shifted_flow[:, 1]) + torch.square(flows[:, 0] - shifted_flow[:, 0]) + epsilon).cuda()\n",
    "  return loss.type(torch.float32)\n",
    "\n",
    "def adv_loss(logits,targets,confidence=0.0):\n",
    "  confidence=torch.tensor(confidence).cuda()\n",
    "  real = torch.sum(logits*targets,-1)\n",
    "  other = torch.max((1-targets)*logits-(targets*10000),-1)[0]\n",
    "  return torch.max(other-real,confidence)[0].type(torch.float32)\n",
    "\n",
    "def func(flows,input,target,model,const=0.05):\n",
    "  input = torch.from_numpy(input).cuda()\n",
    "  target = torch.from_numpy(target).cuda()\n",
    "  flows = torch.from_numpy(flows).view((1,2,)+input.size()[2:]).cuda()\n",
    "  flows.requires_grad=True\n",
    "  pert_out = flow_st(input,flows)\n",
    "  output = model(pert_out)\n",
    "  L_flow = flow_loss(flows)\n",
    "  L_adv = adv_loss(output,target)\n",
    "  L_final = L_adv+const*L_flow\n",
    "  model.zero_grad()\n",
    "  L_final.backward()\n",
    "  gradient = flows.grad.data.view(-1).detach().cpu().numpy()\n",
    "  return L_final.item(),gradient\n",
    "\n",
    "def spatial_attack(input,model,target):\n",
    "  init_flows = np.zeros((1,2,)+input.size()[2:]).reshape(-1)\n",
    "  results = optimize.fmin_l_bfgs_b(func,init_flows,args=(input.cpu().detach().numpy(),target.cpu().detach().numpy(),model))\n",
    "  if b'CONVERGENCE' in results[2]['task']:\n",
    "    flows = torch.from_numpy(results[0]).view((1,2,)+input.size()[2:])\n",
    "    pert_out = flow_st(input,flows)\n",
    "  else:\n",
    "    return None\n",
    "  return pert_out"
   ]
  },
  {
   "cell_type": "code",
   "execution_count": 17,
   "metadata": {
    "tags": []
   },
   "outputs": [
    {
     "name": "stdout",
     "output_type": "stream",
     "text": [
      "Test Accuracy = 7139 / 10000 = 0.7139\n"
     ]
    }
   ],
   "source": [
    "def test_model(model,device,test_loader):\n",
    "    correct = 0\n",
    "    adv_examples = []\n",
    "    for data, target in test_loader:\n",
    "        data, target = data.to(device), target.to(device)\n",
    "        output = model(data)\n",
    "        init_pred = output.max(1, keepdim=True)[1]\n",
    "        if init_pred.item() == target.item():\n",
    "            correct += 1\n",
    "        else:\n",
    "            adv_ex = data.squeeze().detach().cpu().numpy()\n",
    "            adv_examples.append((target.item(), init_pred.item(), adv_ex))\n",
    "            \n",
    "    final_acc = correct/float(len(test_loader))\n",
    "    print(\"Test Accuracy = {} / {} = {}\".format(correct, len(test_loader), final_acc))\n",
    "    \n",
    "    return adv_examples\n",
    "    \n",
    "examples = test_model(model, device,test_loader)"
   ]
  },
  {
   "cell_type": "code",
   "execution_count": 18,
   "metadata": {
    "tags": []
   },
   "outputs": [],
   "source": [
    "train_set_0_9999 = Subset(train_set, range(0, 10000))\n",
    "train_loader_0_9999 = torch.utils.data.DataLoader(train_set_0_9999,batch_size=1,shuffle=True)\n",
    "\n",
    "train_set_10000_19999 = Subset(train_set, range(10000, 20000))\n",
    "train_loader_10000_19999 = torch.utils.data.DataLoader(train_set_10000_19999,batch_size=1,shuffle=True)\n",
    "\n",
    "train_set_20000_29999 = Subset(train_set, range(20000, 30000))\n",
    "train_loader_20000_29999 = torch.utils.data.DataLoader(train_set_20000_29999,batch_size=1,shuffle=True)\n",
    "\n",
    "train_set_30000_39999 = Subset(train_set, range(30000, 40000))\n",
    "train_loader_30000_39999 = torch.utils.data.DataLoader(train_set_30000_39999,batch_size=1,shuffle=True)"
   ]
  },
  {
   "cell_type": "code",
   "execution_count": 19,
   "metadata": {},
   "outputs": [],
   "source": [
    "from torch.utils.data import Dataset\n",
    "\n",
    "class AugmentedDataset(Dataset):\n",
    "    def __init__(self, X, y):\n",
    "        # convert into PyTorch tensors and remember them\n",
    "        self.X = X\n",
    "        self.y = y\n",
    " \n",
    "    def __len__(self):\n",
    "        # this should return the size of the dataset\n",
    "        return len(self.X)\n",
    " \n",
    "    def __getitem__(self, idx):\n",
    "        # this should return one sample from the dataset\n",
    "        features = self.X[idx]\n",
    "        target = self.y[idx]\n",
    "        return features, target"
   ]
  },
  {
   "cell_type": "code",
   "execution_count": 20,
   "metadata": {},
   "outputs": [],
   "source": [
    "def CreateTrainDataset(model,device,loader,hyperparameter,attack):\n",
    "  correct = 0\n",
    "  X = []\n",
    "  y = []\n",
    "  i = 0\n",
    "  for data, target in loader:\n",
    "      if(i % 250 == 0):\n",
    "        print(i/len(loader))\n",
    "      i += 1\n",
    "      data, target = data.to(device), target.to(device)\n",
    "      data.requires_grad = True\n",
    "      output = model(data)\n",
    "      loss = F.nll_loss(output, target)\n",
    "      model.zero_grad()\n",
    "      loss.backward()\n",
    "      data_grad = data.grad.data\n",
    "\n",
    "      if attack == \"fgsm\":\n",
    "        perturbed_data = fgsm_attack(data,hyperparameter,data_grad)\n",
    "      elif attack == \"mifgsm\":\n",
    "        perturbed_data = mifgsm_attack(data,hyperparameter,data_grad)\n",
    "      elif attack == \"deepfool\":\n",
    "        perturbed_data = deepfool_attack(data, model)\n",
    "    \n",
    "      X.append(perturbed_data[0])\n",
    "      y.append(target.item())\n",
    "\n",
    "  return AugmentedDataset(X,y)"
   ]
  },
  {
   "cell_type": "code",
   "execution_count": 21,
   "metadata": {},
   "outputs": [],
   "source": [
    "def CreateSpatialTrainDataset(model,device,loader):\n",
    "  correct = 0\n",
    "  X = []\n",
    "  y = []\n",
    "  i = 0\n",
    "  for data, target in loader:\n",
    "          if(i % 250 == 0):\n",
    "            print(i/len(loader))\n",
    "          i += 1\n",
    "          data, target = data.to(device), target.to(device)\n",
    "          data.requires_grad = True\n",
    "          output = model(data)\n",
    "          loss = F.nll_loss(output, target)\n",
    "          model.zero_grad()\n",
    "          loss.backward()\n",
    "          data_grad = data.grad.data\n",
    "          random_target = np.random.choice([num for num in range(10) if num != target.item()])\n",
    "          attack_target = torch.from_numpy(np.expand_dims(np.eye(10, dtype=np.float32)[random_target],0)).cuda()\n",
    "          perturbed_data = spatial_attack(data, model, attack_target)\n",
    "\n",
    "          X.append(perturbed_data[0])\n",
    "          y.append(target.item())\n",
    "\n",
    "  return AugmentedDataset(X,y)"
   ]
  },
  {
   "cell_type": "code",
   "execution_count": 22,
   "metadata": {},
   "outputs": [
    {
     "name": "stdout",
     "output_type": "stream",
     "text": [
      "0.0\n",
      "0.025\n",
      "0.05\n",
      "0.075\n",
      "0.1\n",
      "0.125\n",
      "0.15\n",
      "0.175\n",
      "0.2\n",
      "0.225\n",
      "0.25\n",
      "0.275\n",
      "0.3\n",
      "0.325\n",
      "0.35\n",
      "0.375\n",
      "0.4\n",
      "0.425\n",
      "0.45\n",
      "0.475\n",
      "0.5\n",
      "0.525\n",
      "0.55\n",
      "0.575\n",
      "0.6\n",
      "0.625\n",
      "0.65\n",
      "0.675\n",
      "0.7\n",
      "0.725\n",
      "0.75\n",
      "0.775\n",
      "0.8\n",
      "0.825\n",
      "0.85\n",
      "0.875\n",
      "0.9\n",
      "0.925\n",
      "0.95\n",
      "0.975\n",
      "spatial created pt 3\n",
      "0.0\n",
      "0.025\n",
      "0.05\n",
      "0.075\n",
      "0.1\n",
      "0.125\n",
      "0.15\n",
      "0.175\n",
      "0.2\n",
      "0.225\n",
      "0.25\n",
      "0.275\n",
      "0.3\n",
      "0.325\n",
      "0.35\n",
      "0.375\n",
      "0.4\n",
      "0.425\n",
      "0.45\n",
      "0.475\n",
      "0.5\n",
      "0.525\n",
      "0.55\n",
      "0.575\n",
      "0.6\n",
      "0.625\n",
      "0.65\n",
      "0.675\n",
      "0.7\n",
      "0.725\n",
      "0.75\n",
      "0.775\n",
      "0.8\n",
      "0.825\n",
      "0.85\n",
      "0.875\n",
      "0.9\n",
      "0.925\n",
      "0.95\n",
      "0.975\n",
      "spatial created pt 4\n"
     ]
    }
   ],
   "source": [
    "#fgsm_1_train_1 = CreateTrainDataset(model, device, train_loader_0_9999, 0.1, \"fgsm\")\n",
    "#print(\"fgsm 0.1 pt 1 created\")\n",
    "#fgsm_1_train_2 = CreateTrainDataset(model, device, train_loader_10000_19999, 0.1, \"fgsm\")\n",
    "#print(\"fgsm 0.1 pt 2 created\")\n",
    "#fgsm_1_train_3 = CreateTrainDataset(model, device, train_loader_20000_29999, 0.1, \"fgsm\")\n",
    "#print(\"fgsm 0.1 pt 3 created\")\n",
    "#fgsm_1_train_4 = CreateTrainDataset(model, device, train_loader_30000_39999, 0.1, \"fgsm\")\n",
    "#print(\"fgsm 0.1 pt 4 created\")\n",
    "\n",
    "\n",
    "#mifgsm_1_train_1 = CreateTrainDataset(model, device, train_loader_0_9999, 0.1, \"mifgsm\")\n",
    "#print(\"mifgsm 0.1 pt 1 created\")\n",
    "#mifgsm_1_train_2 = CreateTrainDataset(model, device, train_loader_10000_19999, 0.1, \"mifgsm\")\n",
    "#print(\"mifgsm 0.1 pt 2 created\")\n",
    "#mifgsm_1_train_3 = CreateTrainDataset(model, device, train_loader_20000_29999, 0.1, \"mifgsm\")\n",
    "#print(\"mifgsm 0.1 pt 3 created\")\n",
    "#mifgsm_1_train_4 = CreateTrainDataset(model, device, train_loader_30000_39999, 0.1, \"mifgsm\")\n",
    "#print(\"mifgsm 0.1 pt 4 created\")\n",
    "\n",
    "\n",
    "\n",
    "#deepfool_train_1 = CreateTrainDataset(model, device, train_loader_0_9999, 0, \"deepfool\")\n",
    "#print(\"deepfool pt 1 created\")\n",
    "#deepfool_train_2 = CreateTrainDataset(model, device, train_loader_10000_19999, 0, \"deepfool\")\n",
    "#print(\"deepfool pt 2 created\")\n",
    "#deepfool_train_3 = CreateTrainDataset(model, device, train_loader_20000_29999, 0, \"deepfool\")\n",
    "#print(\"deepfool pt 3 created\")\n",
    "#deepfool_train_4 = CreateTrainDataset(model, device, train_loader_30000_39999, 0, \"deepfool\")\n",
    "#print(\"deepfool pt 4 created\")\n",
    "\n",
    "\n",
    "#spatial_train_1 = CreateSpatialTrainDataset(model, device, train_loader_0_9999)\n",
    "#print(\"spatial created pt 1\")\n",
    "#spatial_train_2 = CreateSpatialTrainDataset(model, device, train_loader_10000_19999)\n",
    "#print(\"spatial created pt 2\")\n",
    "#spatial_train_3 = CreateSpatialTrainDataset(model, device, train_loader_20000_29999)\n",
    "#print(\"spatial created pt 3\")\n",
    "#spatial_train_4 = CreateSpatialTrainDataset(model, device, train_loader_30000_39999)\n",
    "#print(\"spatial created pt 4\")"
   ]
  },
  {
   "cell_type": "code",
   "execution_count": 23,
   "metadata": {},
   "outputs": [],
   "source": [
    "\n",
    "#torch.save(fgsm_1_train_1,'./custom_train_datasets/CIFAR10_fgsm_1_train_pt1.pth')\n",
    "#torch.save(fgsm_1_train_2,'./custom_train_datasets/CIFAR10_fgsm_1_train_pt2.pth')\n",
    "#torch.save(fgsm_1_train_3,'./custom_train_datasets/CIFAR10_fgsm_1_train_pt3.pth')\n",
    "#torch.save(fgsm_1_train_4,'./custom_train_datasets/CIFAR10_fgsm_1_train_pt4.pth')\n",
    "\n",
    "#torch.save(mifgsm_1_train_1,'./custom_train_datasets/CIFAR10_mifgsm_1_train_pt1.pth')\n",
    "#torch.save(mifgsm_1_train_2,'./custom_train_datasets/CIFAR10_mifgsm_1_train_pt2.pth')\n",
    "#torch.save(mifgsm_1_train_3,'./custom_train_datasets/CIFAR10_mifgsm_1_train_pt3.pth')\n",
    "#torch.save(mifgsm_1_train_4,'./custom_train_datasets/CIFAR10_mifgsm_1_train_pt4.pth')\n",
    "\n",
    "#torch.save(deepfool_train_1,'./custom_train_datasets/CIFAR10_deepfool_train_pt1.pth')\n",
    "#torch.save(deepfool_train_2,'./custom_train_datasets/CIFAR10_deepfool_train_pt2.pth')\n",
    "#torch.save(deepfool_train_3,'./custom_train_datasets/CIFAR10_deepfool_train_pt3.pth')\n",
    "#torch.save(deepfool_train_4,'./custom_train_datasets/CIFAR10_deepfool_train_pt4.pth')\n",
    "\n",
    "\n",
    "#torch.save(spatial_train_1,'./custom_train_datasets/CIFAR10_spatial_train_pt1.pth')\n",
    "#torch.save(spatial_train_2,'./custom_train_datasets/CIFAR10_spatial_train_pt2.pth')\n",
    "#torch.save(spatial_train_3,'./custom_train_datasets/CIFAR10_spatial_train_pt3.pth')\n",
    "#torch.save(spatial_train_4,'./custom_train_datasets/CIFAR10_spatial_train_pt4.pth')"
   ]
  },
  {
   "cell_type": "code",
   "execution_count": 24,
   "metadata": {},
   "outputs": [],
   "source": [
    "\n",
    "#fgsm_1_test_1 = torch.load('./custom_train_datasets/CIFAR10_fgsm_1_train_pt1.pth')\n",
    "#fgsm_1_test_2 = torch.load('./custom_train_datasets/CIFAR10_fgsm_1_train_pt2.pth')\n",
    "#fgsm_1_test_3 = torch.load('./custom_train_datasets/CIFAR10_fgsm_1_train_pt3.pth')\n",
    "#fgsm_1_test_4 = torch.load('./custom_train_datasets/CIFAR10_fgsm_1_train_pt4.pth')\n",
    "\n",
    "#mifgsm_1_test_1 = torch.load('./custom_train_datasets/CIFAR10_mifgsm_1_train_pt1.pth')\n",
    "#mifgsm_1_test_2 = torch.load('./custom_train_datasets/CIFAR10_mifgsm_1_train_pt2.pth')\n",
    "#mifgsm_1_test_3 = torch.load('./custom_train_datasets/CIFAR10_mifgsm_1_train_pt3.pth')\n",
    "#mifgsm_1_test_4 = torch.load('./custom_train_datasets/CIFAR10_mifgsm_1_train_pt4.pth')\n",
    "\n",
    "\n",
    "#deepfool_test_1 = torch.load('./custom_datasets/CIFAR10_deepfool_train_pt1.pth')\n",
    "#deepfool_test_2 = torch.load('./custom_datasets/CIFAR10_deepfool_train_pt2.pth')\n",
    "#deepfool_test_3 = torch.load('./custom_datasets/CIFAR10_deepfool_train_pt3.pth')\n",
    "#deepfool_test_4 = torch.load('./custom_datasets/CIFAR10_deepfool_train_pt4.pth')\n",
    "\n",
    "\n",
    "#spatial_test_1 = torch.load('./custom_train_datasets/CIFAR10_spatial_train_pt1.pth')\n",
    "#spatial_test_2 = torch.load('./custom_train_datasets/CIFAR10_spatial_train_pt2.pth')\n",
    "#spatial_test_3 = torch.load('./custom_train_datasets/CIFAR10_spatial_train_pt3.pth')\n",
    "#spatial_test_4 = torch.load('./custom_train_datasets/CIFAR10_spatial_train_pt4.pth')\n"
   ]
  },
  {
   "cell_type": "code",
   "execution_count": 25,
   "metadata": {},
   "outputs": [
    {
     "name": "stdout",
     "output_type": "stream",
     "text": [
      "Test Accuracy = 8052 / 10000 = 0.8052\n",
      "Test Accuracy = 8073 / 10000 = 0.8073\n"
     ]
    }
   ],
   "source": [
    "#fgsm_1_test_loader = torch.utils.data.DataLoader(fgsm_1_test_1,batch_size=1,shuffle=True)\n",
    "#examples = test_model(model, device,fgsm_1_test_loader)\n",
    "#fgsm_2_test_loader = torch.utils.data.DataLoader(fgsm_1_test_2,batch_size=1,shuffle=True)\n",
    "#examples = test_model(model, device,fgsm_2_test_loader)\n",
    "#fgsm_3_test_loader = torch.utils.data.DataLoader(fgsm_1_test_3,batch_size=1,shuffle=True)\n",
    "#examples = test_model(model, device,fgsm_3_test_loader)\n",
    "#fgsm_4_test_loader = torch.utils.data.DataLoader(fgsm_1_test_4,batch_size=1,shuffle=True)\n",
    "#examples = test_model(model, device,fgsm_4_test_loader)\n",
    "\n",
    "#mifgsm_1_test_loader = torch.utils.data.DataLoader(mifgsm_1_test_1,batch_size=1,shuffle=True)\n",
    "#examples = test_model(model, device,mifgsm_1_test_loader)\n",
    "#mifgsm_2_test_loader = torch.utils.data.DataLoader(mifgsm_1_test_2,batch_size=1,shuffle=True)\n",
    "#examples = test_model(model, device,mifgsm_2_test_loader)\n",
    "#mifgsm_3_test_loader = torch.utils.data.DataLoader(mifgsm_1_test_3,batch_size=1,shuffle=True)\n",
    "#examples = test_model(model, device,mifgsm_3_test_loader)\n",
    "#mifgsm_4_test_loader = torch.utils.data.DataLoader(mifgsm_1_test_4,batch_size=1,shuffle=True)\n",
    "#examples = test_model(model, device,mifgsm_4_test_loader)\n",
    "\n",
    "\n",
    "\n",
    "#deepfool_test_loader = torch.utils.data.DataLoader(deepfool_test_1,batch_size=1,shuffle=True)\n",
    "#examples = test_model(model, device,deepfool_test_loader)\n",
    "#deepfool_test_loader = torch.utils.data.DataLoader(deepfool_test_2,batch_size=1,shuffle=True)\n",
    "#examples = test_model(model, device,deepfool_test_loader)\n",
    "#deepfool_test_loader = torch.utils.data.DataLoader(deepfool_test_3,batch_size=1,shuffle=True)\n",
    "#examples = test_model(model, device,deepfool_test_loader)\n",
    "#deepfool_test_loader = torch.utils.data.DataLoader(deepfool_test_4,batch_size=1,shuffle=True)\n",
    "#examples = test_model(model, device,deepfool_test_loader)\n",
    "\n",
    "\n",
    "#spatial_test_loader_1 = torch.utils.data.DataLoader(spatial_test_1,batch_size=1,shuffle=True)\n",
    "#examples = test_model(model, device,spatial_test_loader_1)\n",
    "#spatial_test_loader_2 = torch.utils.data.DataLoader(spatial_test_2,batch_size=1,shuffle=True)\n",
    "#examples = test_model(model, device,spatial_test_loader_2)\n",
    "#spatial_test_loader_3 = torch.utils.data.DataLoader(spatial_test_3,batch_size=1,shuffle=True)\n",
    "#examples = test_model(model, device,spatial_test_loader_3)\n",
    "#spatial_test_loader_4 = torch.utils.data.DataLoader(spatial_test_4,batch_size=1,shuffle=True)\n",
    "#examples = test_model(model, device,spatial_test_loader_4)"
   ]
  },
  {
   "cell_type": "code",
   "execution_count": null,
   "metadata": {},
   "outputs": [],
   "source": []
  }
 ],
 "metadata": {
  "accelerator": "GPU",
  "colab": {
   "authorship_tag": "ABX9TyOlIlXSQS3wh88lTwvpnKqX",
   "collapsed_sections": [],
   "include_colab_link": true,
   "name": "Adversarial Example (Attack and defense).ipynb",
   "provenance": []
  },
  "kernelspec": {
   "display_name": "virEnv",
   "language": "python",
   "name": "virenv"
  },
  "language_info": {
   "codemirror_mode": {
    "name": "ipython",
    "version": 3
   },
   "file_extension": ".py",
   "mimetype": "text/x-python",
   "name": "python",
   "nbconvert_exporter": "python",
   "pygments_lexer": "ipython3",
   "version": "3.8.18"
  }
 },
 "nbformat": 4,
 "nbformat_minor": 4
}
